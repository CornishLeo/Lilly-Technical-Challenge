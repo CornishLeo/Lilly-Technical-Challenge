{
 "cells": [
  {
   "cell_type": "markdown",
   "metadata": {},
   "source": [
    "# Solution for Lilly Technical Challenge"
   ]
  },
  {
   "cell_type": "markdown",
   "metadata": {},
   "source": [
    "### Imports"
   ]
  },
  {
   "cell_type": "code",
   "execution_count": 34,
   "metadata": {},
   "outputs": [],
   "source": [
    "import pandas as pd\n",
    "import numpy as np"
   ]
  },
  {
   "cell_type": "markdown",
   "metadata": {},
   "source": [
    "### Objective 1"
   ]
  },
  {
   "cell_type": "code",
   "execution_count": 35,
   "metadata": {},
   "outputs": [
    {
     "name": "stdout",
     "output_type": "stream",
     "text": [
      "Average goals scored between the years 1900 and 2000 is 3.07\n"
     ]
    }
   ],
   "source": [
    "# Import data and convert date columns to date objects\n",
    "resultsTable = pd.read_csv(\"results.csv\")\n",
    "resultsTable['date'] = pd.to_datetime(resultsTable['date'])\n",
    "\n",
    "# Extract year to new column\n",
    "resultsTable['year'] = resultsTable['date'].dt.year\n",
    "\n",
    "# Get rows with a date between 1900 and 2000 and get only necessary columns\n",
    "filtered_results = resultsTable[(resultsTable['year'] >= 1900) & (resultsTable['year'] <= 2000)][['year', 'home_score', 'away_score']]\n",
    "\n",
    "# Calculate total score\n",
    "filtered_results['total_goals'] = filtered_results['home_score'] + filtered_results['away_score']\n",
    "\n",
    "# Get mean for column 'total_goals'\n",
    "scoreMean = filtered_results['total_goals'].mean()\n",
    "\n",
    "print(f'Average goals scored between the years 1900 and 2000 is {scoreMean:.2f}')"
   ]
  },
  {
   "cell_type": "markdown",
   "metadata": {},
   "source": [
    "### Objective 2"
   ]
  },
  {
   "cell_type": "code",
   "execution_count": 36,
   "metadata": {},
   "outputs": [
    {
     "name": "stdout",
     "output_type": "stream",
     "text": [
      "winner\n",
      "Abkhazia                2\n",
      "Algeria                 7\n",
      "Angola                  7\n",
      "Antigua and Barbuda     2\n",
      "Argentina              14\n",
      "                       ..\n",
      "Zambia                 13\n",
      "Zanzibar                2\n",
      "Zimbabwe                7\n",
      "Åland                   1\n",
      "Åland Islands           2\n",
      "Name: count, Length: 163, dtype: int64\n"
     ]
    }
   ],
   "source": [
    "shootoutsTable = pd.read_csv(\"shootouts.csv\")\n",
    "winner_counts = shootoutsTable[\"winner\"].value_counts().sort_index()\n",
    "print(winner_counts)"
   ]
  },
  {
   "cell_type": "markdown",
   "metadata": {},
   "source": [
    "### Objective 3"
   ]
  },
  {
   "cell_type": "code",
   "execution_count": 92,
   "metadata": {},
   "outputs": [
    {
     "name": "stdout",
     "output_type": "stream",
     "text": [
      "        date home_team away_team  home_score  away_score tournament     city  \\\n",
      "0 1872-11-30  Scotland   England           0           0   Friendly  Glasgow   \n",
      "1 1873-03-08   England  Scotland           4           2   Friendly   London   \n",
      "2 1874-03-07  Scotland   England           2           1   Friendly  Glasgow   \n",
      "3 1875-03-06   England  Scotland           2           2   Friendly   London   \n",
      "4 1876-03-04  Scotland   England           3           0   Friendly  Glasgow   \n",
      "\n",
      "    country  neutral                     match_id  \n",
      "0  Scotland    False  1872-11-30_Scotland_England  \n",
      "1   England    False  1873-03-08_England_Scotland  \n",
      "2  Scotland    False  1874-03-07_Scotland_England  \n",
      "3   England    False  1875-03-06_England_Scotland  \n",
      "4  Scotland    False  1876-03-04_Scotland_England  \n"
     ]
    }
   ],
   "source": [
    "\n",
    "# Import data and convert date column to dt object\n",
    "goalScorersTable = pd.read_csv(\"goalscorers.csv\")\n",
    "goalScorersTable['date'] = pd.to_datetime(goalScorersTable['date'])\n",
    "resultsTable = pd.read_csv(\"results.csv\")\n",
    "resultsTable['date'] = pd.to_datetime(resultsTable['date'])\n",
    "shootoutsTable = pd.read_csv(\"shootouts.csv\")\n",
    "shootoutsTable['date'] = pd.to_datetime(shootoutsTable['date'])\n",
    "\n",
    "# Create a match_id key to merge the tables by \n",
    "goalScorersTable[\"match_id\"] = (\n",
    "    goalScorersTable[\"date\"].astype(str) + \"_\" +\n",
    "    goalScorersTable[\"home_team\"].str.replace(\" \", \"_\") + \"_\" + \n",
    "    goalScorersTable[\"away_team\"].str.replace(\" \", \"_\")\n",
    "    )\n",
    "resultsTable[\"match_id\"] = (\n",
    "    resultsTable[\"date\"].astype(str) + \"_\" +\n",
    "    resultsTable[\"home_team\"].str.replace(\" \", \"_\") + \"_\" + \n",
    "    resultsTable[\"away_team\"].str.replace(\" \", \"_\")\n",
    "    )\n",
    "shootoutsTable[\"match_id\"] = (\n",
    "    shootoutsTable[\"date\"].astype(str) + \"_\" +\n",
    "    shootoutsTable[\"home_team\"].str.replace(\" \", \"_\") + \"_\" + \n",
    "    shootoutsTable[\"away_team\"].str.replace(\" \", \"_\")\n",
    "    )\n",
    "\n",
    "# Create goal_id in goalScorersTable\n",
    "goalScorersTable[\"goal_id\"] = (\n",
    "    goalScorersTable[\"match_id\"] + \"_\" +\n",
    "    goalScorersTable[\"minute\"].astype(str)\n",
    ")\n",
    "\n",
    "print(resultsTable.head())"
   ]
  },
  {
   "cell_type": "markdown",
   "metadata": {},
   "source": [
    "### Objective 4"
   ]
  },
  {
   "cell_type": "code",
   "execution_count": null,
   "metadata": {},
   "outputs": [
    {
     "name": "stdout",
     "output_type": "stream",
     "text": [
      "winner\n",
      "South Korea            7\n",
      "Uruguay                7\n",
      "Burkina Faso           6\n",
      "Argentina              6\n",
      "Mali                   5\n",
      "                      ..\n",
      "Antigua and Barbuda    1\n",
      "Zambia                 1\n",
      "Cuba                   1\n",
      "Sudan                  1\n",
      "Åland                  1\n",
      "Name: count, Length: 115, dtype: int64\n"
     ]
    }
   ],
   "source": [
    "# Merge shootouts table with results on previously created 'match_id'\n",
    "mergedTable = shootoutsTable.merge(resultsTable, on=\"match_id\", how=\"inner\")\n",
    "\n",
    "# Keep rows which the game results in a score of 1-1\n",
    "draw_1_1 = mergedTable[(mergedTable[\"home_score\"] == 1) & (mergedTable[\"away_score\"] == 1)]\n",
    "\n",
    "# Get value counts for winners\n",
    "shootout_winners_count = draw_1_1[\"winner\"].value_counts()\n",
    "\n",
    "print(shootout_winners_count)"
   ]
  },
  {
   "cell_type": "markdown",
   "metadata": {},
   "source": [
    "### Objective 5"
   ]
  },
  {
   "cell_type": "code",
   "execution_count": 99,
   "metadata": {},
   "outputs": [
    {
     "name": "stdout",
     "output_type": "stream",
     "text": [
      "                        tournament                   scorer  goals  \\\n",
      "0                    AFC Asian Cup                 Ali Daei     14   \n",
      "1           African Cup of Nations             Samuel Eto'o     18   \n",
      "2                       Baltic Cup          Ēriks Pētersons      9   \n",
      "3        British Home Championship              Geoff Hurst      4   \n",
      "4   CONMEBOL–UEFA Cup of Champions         Claudio Caniggia      1   \n",
      "5               Confederations Cup        Cuauhtémoc Blanco      9   \n",
      "6                     Copa América  Norberto Doroteo Méndez     17   \n",
      "7                   FIFA World Cup           Miroslav Klose     16   \n",
      "8     FIFA World Cup qualification              Carlos Ruiz     39   \n",
      "9                         Gold Cup           Landon Donovan     18   \n",
      "10               NAFC Championship        Luis de la Fuente      3   \n",
      "11             Oceania Nations Cup              Damian Mori     14   \n",
      "12                       UEFA Euro        Cristiano Ronaldo     14   \n",
      "13         UEFA Euro qualification        Cristiano Ronaldo     41   \n",
      "14             UEFA Nations League      Aleksandar Mitrović     14   \n",
      "\n",
      "    total_goals  goal_percentage  \n",
      "0           987         1.418440  \n",
      "1          1767         1.018676  \n",
      "2           229         3.930131  \n",
      "3            33        12.121212  \n",
      "4             7        14.285714  \n",
      "5           423         2.127660  \n",
      "6          2671         0.636466  \n",
      "7          2720         0.588235  \n",
      "8         22738         0.171519  \n",
      "9          1097         1.640839  \n",
      "10           10        30.000000  \n",
      "11          486         2.880658  \n",
      "12          829         1.688782  \n",
      "13         7958         0.515205  \n",
      "14         1184         1.182432  \n"
     ]
    }
   ],
   "source": [
    "\n",
    "# Merge the appropriate tables\n",
    "mergedTable = goalScorersTable.merge(resultsTable, on=\"match_id\", how=\"inner\")\n",
    "\n",
    "# Group by tournament and scorer, get the number of entried for each group, reset the index\n",
    "goal_counts = mergedTable.groupby(['tournament', 'scorer']).size().reset_index(name='goals')\n",
    "\n",
    "# For each tournament get the highest scorers index, get rows from original table with index\n",
    "top_scorer = goal_counts.loc[goal_counts.groupby('tournament')['goals'].idxmax()]\n",
    "\n",
    "# Get the total goals by tournament and reset the index\n",
    "total_goals_per_tournament = goal_counts.groupby('tournament')['goals'].sum().reset_index(name='total_goals')\n",
    "\n",
    "# Merge the new tables by the matching tournament\n",
    "top_scorer = top_scorer.merge(total_goals_per_tournament, on=\"tournament\")\n",
    "\n",
    "# Create new column for percentage of tournament goals\n",
    "top_scorer['goal_percentage'] = (top_scorer['goals'] / top_scorer['total_goals']) * 100\n",
    "\n",
    "# Display the result\n",
    "print(top_scorer[['tournament', 'scorer', 'goals', 'total_goals', 'goal_percentage']])\n"
   ]
  },
  {
   "cell_type": "markdown",
   "metadata": {},
   "source": [
    "### Additional Objectives\n",
    "\n",
    "Ran out of the 1 hour time to complete, however I did complete some checks whilst working through the other objectives like checking for Null values.\n",
    "\n",
    "Additionally to check for data quality issues I would first flag entries with Null values, inconsistent values (such as negative goals), outliers (more than a 100 goals by a player in a tournament), Dulplicates, wrong data type (Such as a number being passed as a player name).\n",
    "\n",
    "To correct these issues, the most likely option would be remove entries with quality issues. But in some cases it might be possible to correct the issues such as replacing a value with the mean of that column, or replacing Null values with a keyword like \"Unknown\"."
   ]
  }
 ],
 "metadata": {
  "kernelspec": {
   "display_name": "base",
   "language": "python",
   "name": "python3"
  },
  "language_info": {
   "codemirror_mode": {
    "name": "ipython",
    "version": 3
   },
   "file_extension": ".py",
   "mimetype": "text/x-python",
   "name": "python",
   "nbconvert_exporter": "python",
   "pygments_lexer": "ipython3",
   "version": "3.11.7"
  }
 },
 "nbformat": 4,
 "nbformat_minor": 2
}
